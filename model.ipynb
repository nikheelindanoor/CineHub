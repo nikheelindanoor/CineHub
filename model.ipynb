{
 "cells": [
  {
   "cell_type": "code",
   "execution_count": 2,
   "metadata": {},
   "outputs": [
    {
     "name": "stdout",
     "output_type": "stream",
     "text": [
      "Hi\n"
     ]
    }
   ],
   "source": [
    "import pandas as pd\n",
    "import numpy as np\n",
    "from sklearn.feature_extraction.text import CountVectorizer\n",
    "from sklearn.metrics.pairwise import cosine_similarity\n",
    "import requests\n",
    "import json\n",
    "print(\"Hi\")"
   ]
  },
  {
   "cell_type": "code",
   "execution_count": 22,
   "metadata": {},
   "outputs": [
    {
     "name": "stdout",
     "output_type": "stream",
     "text": [
      "Hello\n"
     ]
    }
   ],
   "source": [
    "my_api_key = 'b528863227d1c7bd8902923cce47e267'\n",
    "\n",
    "def get_title_from_index(index):\n",
    "    return {\"title\":df[df.index == index][\"title\"].values[0],\"poster_path\":df[df.index == index][\"poster_path\"].values[0],\"director\":df[df.index == index][\"director\"].values[0],\"cast\":df[df.index == index][\"cast\"].values[0],\"overview\":df[df.index == index][\"overview\"].values[0],\"homepage\":df[df.index == index][\"homepage\"].values[0],\"production_companies\":df[df.index == index][\"homepage\"].values[0]}\n",
    "def get_index_from_title(title):\n",
    "    #try:\n",
    "    return df[df.title.map(lambda x: x.lower()) == title.lower()][\"index\"].values[0]\n",
    "    # RETURN THE BELOW STRING IF NO SUCH MOVIE EXIST IN DB\n",
    "    # except:\n",
    "    #     return \"No such movie found, check the keywords correctly\" lskd\n",
    "print('Hello')"
   ]
  },
  {
   "cell_type": "code",
   "execution_count": null,
   "metadata": {},
   "outputs": [],
   "source": []
  },
  {
   "cell_type": "code",
   "execution_count": 5,
   "metadata": {},
   "outputs": [
    {
     "name": "stdout",
     "output_type": "stream",
     "text": [
      "{\"errors\":[\"query must be provided\"]}\n",
      "#Horror\n",
      "Done, atb with the rest part!!\n"
     ]
    }
   ],
   "source": [
    "#LOAD DATASET\n",
    "df = pd.read_csv(\"./movie_dataset.csv\")\n",
    "parameters = [\"keywords\",\"cast\",\"genres\",\"director\"]\n",
    "\n",
    "#FILLING THE NA PLACES\n",
    "for parameter in parameters:\n",
    "    df[parameter] = df[parameter].fillna(\" \")\n",
    "    \n",
    "#NEW COLUMN CONTAINING THE FINAL PARAMETERS\n",
    "def final_parameter(row):\n",
    "    return row[\"keywords\"] + \" \" +row[\"cast\"]+ \" \" +row[\"genres\"]+\" \"+row[\"director\"]\n",
    "df[\"final_parameter\"] = df.apply(final_parameter, axis = 1)\n",
    "\n",
    "#NEW COLUMN CONTAINING THE POSTER OF MOVIES\n",
    "df[\"title\"] = df[\"title\"].fillna(\" \")\n",
    "def get_details_using_api(row):\n",
    "    try:\n",
    "        r = requests.get('https://api.themoviedb.org/3/search/movie?api_key='+my_api_key+'&query='+row[\"title\"])\n",
    "        s = json.loads(r.text)\n",
    "        if len(s[\"results\"]) >= 1:\n",
    "            return s[\"results\"][0][\"poster_path\"]\n",
    "        else:\n",
    "            return \"No image for such movies\"\n",
    "    except:\n",
    "        print(r.text)\n",
    "        print(row[\"title\"])\n",
    "\n",
    "df[\"poster_path\"] = df.apply(get_details_using_api, axis = 1)\n",
    "\n",
    "#CONVERTING INTO VECTORS\n",
    "cv = CountVectorizer()\n",
    "count_matrix = cv.fit_transform(df[\"final_parameter\"])\n",
    "\n",
    "#USING COSINE SIMILARITY ON THE VECTORS\n",
    "similarity_matrix = cosine_similarity(count_matrix)\n",
    "print('Done, atb with the rest part!!')"
   ]
  },
  {
   "cell_type": "code",
   "execution_count": 7,
   "metadata": {},
   "outputs": [
    {
     "data": {
      "text/plain": [
       "Index(['index', 'budget', 'genres', 'homepage', 'id', 'keywords',\n",
       "       'original_language', 'original_title', 'overview', 'popularity',\n",
       "       'production_companies', 'production_countries', 'release_date',\n",
       "       'revenue', 'runtime', 'spoken_languages', 'status', 'tagline', 'title',\n",
       "       'vote_average', 'vote_count', 'cast', 'crew', 'director',\n",
       "       'final_parameter', 'poster_path'],\n",
       "      dtype='object')"
      ]
     },
     "execution_count": 7,
     "metadata": {},
     "output_type": "execute_result"
    }
   ],
   "source": [
    "df.columns"
   ]
  },
  {
   "cell_type": "code",
   "execution_count": 23,
   "metadata": {
    "tags": []
   },
   "outputs": [
    {
     "name": "stdout",
     "output_type": "stream",
     "text": [
      "Done\n"
     ]
    }
   ],
   "source": [
    "#MOVIE TITLE ENTERED BY THE USER\n",
    "def listofmovies(movie):\n",
    "\n",
    "    movie_entered_by_user = movie\n",
    "    try:\n",
    "        movie_index = get_index_from_title(movie_entered_by_user)\n",
    "    except:\n",
    "        return 'No such movie exist, increase your knowledge'\n",
    "\n",
    "    #PRINTING THE TOP 50 SIMILAR MOVIES USING SIMILARITY_MATRIX\n",
    "    \n",
    "    similar_movies = list(enumerate(similarity_matrix[movie_index]))\n",
    "    sorted_similar_movies = sorted(similar_movies, key = lambda x:x[1],reverse=True)\n",
    "    # print(similar_movies)\n",
    "    # print(\"===========================================================\")\n",
    "    # print(sorted_similar_movies)\n",
    "    \n",
    "    \n",
    "    movieslist = []\n",
    "    count = 0\n",
    "    for movie in sorted_similar_movies:\n",
    "            movieslist.append(get_title_from_index(movie[0]))\n",
    "            count += 1\n",
    "            if count >= 50:\n",
    "                break\n",
    "    return movieslist\n",
    "print(\"Done\")"
   ]
  },
  {
   "cell_type": "code",
   "execution_count": 9,
   "metadata": {},
   "outputs": [],
   "source": [
    "#df.to_csv(\"movie_dataset_processed.csv\")"
   ]
  },
  {
   "cell_type": "code",
   "execution_count": 10,
   "metadata": {},
   "outputs": [],
   "source": [
    "df2 = pd.read_csv(\"./movie_dataset_processed.csv\")"
   ]
  },
  {
   "cell_type": "code",
   "execution_count": 15,
   "metadata": {},
   "outputs": [
    {
     "data": {
      "text/plain": [
       "Index(['index', 'budget', 'genres', 'homepage', 'id', 'keywords',\n",
       "       'original_language', 'original_title', 'overview', 'popularity',\n",
       "       'production_companies', 'production_countries', 'release_date',\n",
       "       'revenue', 'runtime', 'spoken_languages', 'status', 'tagline', 'title',\n",
       "       'vote_average', 'vote_count', 'cast', 'crew', 'director',\n",
       "       'final_parameter', 'poster_path'],\n",
       "      dtype='object')"
      ]
     },
     "execution_count": 15,
     "metadata": {},
     "output_type": "execute_result"
    }
   ],
   "source": [
    "df.columns"
   ]
  },
  {
   "cell_type": "code",
   "execution_count": 21,
   "metadata": {},
   "outputs": [
    {
     "name": "stdout",
     "output_type": "stream",
     "text": [
      "[{\"name\": \"Ingenious Film Partners\", \"id\": 289}, {\"name\": \"Twentieth Century Fox Film Corporation\", \"id\": 306}, {\"name\": \"Dune Entertainment\", \"id\": 444}, {\"name\": \"Lightstorm Entertainment\", \"id\": 574}]\n"
     ]
    }
   ],
   "source": [
    "print(df2.loc[0,\"production_companies\"])"
   ]
  },
  {
   "cell_type": "code",
   "execution_count": 24,
   "metadata": {},
   "outputs": [
    {
     "name": "stdout",
     "output_type": "stream",
     "text": [
      "[{'title': 'Avatar', 'poster_path': '/6EiRUJpuoeQPghrs3YNktfnqOVh.jpg', 'director': 'James Cameron', 'cast': 'Sam Worthington Zoe Saldana Sigourney Weaver Stephen Lang Michelle Rodriguez', 'overview': 'In the 22nd century, a paraplegic Marine is dispatched to the moon Pandora on a unique mission, but becomes torn between following orders and protecting an alien civilization.', 'homepage': 'http://www.avatarmovie.com/', 'production_companies': 'http://www.avatarmovie.com/'}, {'title': 'Guardians of the Galaxy', 'poster_path': '/y4MBh0EjBlMuOzv9axM4qJlmhzz.jpg', 'director': 'James Gunn', 'cast': 'Chris Pratt Zoe Saldana Dave Bautista Vin Diesel Bradley Cooper', 'overview': 'Light years from Earth, 26 years after being abducted, Peter Quill finds himself the prime target of a manhunt after discovering an orb wanted by Ronan the Accuser.', 'homepage': 'http://marvel.com/guardians', 'production_companies': 'http://marvel.com/guardians'}, {'title': 'Aliens', 'poster_path': '/r1x5JGpyqZU8PYhbs4UcrO1Xb6x.jpg', 'director': 'James Cameron', 'cast': 'Sigourney Weaver Michael Biehn James Remar Paul Reiser Lance Henriksen', 'overview': \"When Ripley's lifepod is found by a salvage crew over 50 years later, she finds that terra-formers are on the very planet they found the alien species. When the company sends a family of colonists out to investigate her story, all contact is lost with the planet and colonists. They enlist Ripley and the colonial marines to return and search for answers.\", 'homepage': nan, 'production_companies': nan}, {'title': 'Star Wars: Clone Wars: Volume 1', 'poster_path': 'No image for such movies', 'director': 'Genndy Tartakovsky', 'cast': 'Tom Kane Corey Burton Mat Lucas James Arnold Taylor Andr\\\\u00e9 Sogliuzzo', 'overview': 'The Saga continues with the Emmy-winning \"Star Wars: Clone Wars.\" This animated micro-series, directed by Genndy Tartakovsky, captures George Lucas\\' vision in a dynamic animated style that is a visual delight for all ages.  \"Star Wars: Clone Wars\" Volume 1 reveals the epic adventures that bridge the story arc between \"Star Wars: Episode II: Attack of the Clones\" and \"Star Wars: Episode III: Revenge of the Sith.\" Follow the valiant Jedi Knights and the Brave soldiers of the Republic\\'s clone army as they battle against the droid forces of the Separatists, led by the evil Sith Lord, Count Dooku. Witness the battles that made galactic heroes out of Anakin Skywalker and Obi-Wan Kenobi, and along the way get a first look at the new menace from Episode III, General Grevious.  This is a must-have for any \"Star Wars\" collection.', 'homepage': 'http://www.starwars.com/tv-shows/star-wars-the-clone-wars', 'production_companies': 'http://www.starwars.com/tv-shows/star-wars-the-clone-wars'}, {'title': 'Star Trek Into Darkness', 'poster_path': '/Aim3kVNh1MPIxPEFeJrl9e9Uf1a.jpg', 'director': 'J.J. Abrams', 'cast': 'Chris Pine Zachary Quinto Zoe Saldana Karl Urban Simon Pegg', 'overview': 'When the crew of the Enterprise is called back home, they find an unstoppable force of terror from within their own organization has detonated the fleet and everything it stands for, leaving our world in a state of crisis.  With a personal score to settle, Captain Kirk leads a manhunt to a war-zone world to capture a one man weapon of mass destruction. As our heroes are propelled into an epic chess game of life and death, love will be challenged, friendships will be torn apart, and sacrifices must be made for the only family Kirk has left: his crew.', 'homepage': nan, 'production_companies': nan}, {'title': 'Star Trek Beyond', 'poster_path': '/65NVDW2LnHt2ko3m8ACxFo8E21f.jpg', 'director': 'Justin Lin', 'cast': 'Chris Pine Zachary Quinto Karl Urban Simon Pegg Zoe Saldana', 'overview': 'The USS Enterprise crew explores the furthest reaches of uncharted space, where they encounter a mysterious new enemy who puts them and everything the Federation stands for to the test.', 'homepage': 'http://www.startrekmovie.com/', 'production_companies': 'http://www.startrekmovie.com/'}, {'title': 'Alien', 'poster_path': '/vfrQk5IPloGg1v9Rzbh2Eg3VGyM.jpg', 'director': 'Ridley Scott', 'cast': 'Tom Skerritt Sigourney Weaver Veronica Cartwright Harry Dean Stanton John Hurt', 'overview': 'During its return to the earth, commercial spaceship Nostromo intercepts a distress signal from a distant planet. When a three-member team of the crew discovers a chamber containing thousands of eggs on the planet, a creature inside one of the eggs attacks an explorer. The entire crew is unaware of the impending nightmare set to descend upon them when the alien parasite planted inside its unfortunate host is birthed.', 'homepage': 'https://www.facebook.com/alienanthology/', 'production_companies': 'https://www.facebook.com/alienanthology/'}, {'title': 'Lockout', 'poster_path': '/i5QfNIcg6hc327IWUerea0EczP4.jpg', 'director': 'Stephen St. Leger', 'cast': 'Guy Pearce Maggie Grace Joseph Gilgun Lennie James Peter Stormare', 'overview': \"Set in the near future, Lockout follows a falsely convicted ex-government agent , whose one chance at obtaining freedom lies in the dangerous mission of rescuing the President's daughter from rioting convicts at an outer space maximum security prison.\", 'homepage': 'http://www.lockoutfilm.com/', 'production_companies': 'http://www.lockoutfilm.com/'}, {'title': 'Jason X', 'poster_path': '/qizsVrFGEkfVZ3WvkJb1q95JFVf.jpg', 'director': 'James Isaac', 'cast': 'Kane Hodder Lexa Doig Chuck Campbell Lisa Ryder David Cronenberg', 'overview': \"In the year 2455, Old Earth is now a contaminated planet abandoned for centuries -- a brown world of violent storms, toxic landmasses and poisonous seas. Yet humans have returned to the deadly place that they once fled, not to live, but to research the ancient, rusting artifacts of the long-gone civilizations. But it's not the harmful environment that could prove fatal to the intrepid, young explorers who have just landed on Old Earth. For them, it's Friday the 13th, and Jason lives!\", 'homepage': nan, 'production_companies': nan}, {'title': 'The Helix... Loaded', 'poster_path': None, 'director': ' ', 'cast': ' ', 'overview': ' ', 'homepage': nan, 'production_companies': nan}, {'title': 'Moonraker', 'poster_path': '/1jgcSEs83R8X1bSNa2z3qFavNHY.jpg', 'director': 'Lewis Gilbert', 'cast': 'Roger Moore Lois Chiles Michael Lonsdale Corinne Cl\\\\u00e9ry Richard Kiel', 'overview': 'During the transportation of a Space Shuttle a Boeing 747 crashes in the Atlantic Ocean yet when they go to look for the destroyed shuttle it is not there. James Bond investigates the missing mission space shuttle and soon learns that the shuttles owner Hugo Drax wants to kill all of mankind.', 'homepage': 'http://www.mgm.com/view/movie/1292/Moonraker/', 'production_companies': 'http://www.mgm.com/view/movie/1292/Moonraker/'}, {'title': 'Planet of the Apes', 'poster_path': '/hjRLPGCbADVsSaa26pdjV0qlSjt.jpg', 'director': 'Tim Burton', 'cast': 'Mark Wahlberg Tim Roth Helena Bonham Carter Michael Clarke Duncan Kris Kristofferson', 'overview': 'After a spectacular crash-landing on an uncharted planet, brash astronaut Leo Davidson finds himself trapped in a savage world where talking apes dominate the human race. Desperate to find a way home, Leo must evade the invincible gorilla army led by Ruthless General Thade.', 'homepage': nan, 'production_companies': nan}, {'title': 'Galaxy Quest', 'poster_path': '/fZXSwgZknp81vmciTb86rw0MejV.jpg', 'director': 'Dean Parisot', 'cast': 'Tim Allen Sigourney Weaver Alan Rickman Tony Shalhoub Sam Rockwell', 'overview': \"The stars of a 1970s sci-fi show - now scraping a living through re-runs and sci-fi conventions - are beamed aboard an alien spacecraft. Believing the cast's heroic on-screen dramas are historical documents of real-life adventures, the band of aliens turn to the ailing celebrities for help in their quest to overcome the oppressive regime in their solar system.\", 'homepage': nan, 'production_companies': nan}, {'title': 'Gravity', 'poster_path': '/wmUeEacsFZzDndaeOtNNmy26rYJ.jpg', 'director': 'Alfonso Cuar\\\\u00f3n', 'cast': 'Sandra Bullock George Clooney Ed Harris Orto Ignatiussen Phaldut Sharma', 'overview': 'Dr. Ryan Stone, a brilliant medical engineer on her first Shuttle mission, with veteran astronaut Matt Kowalsky in command of his last flight before retiring. But on a seemingly routine spacewalk, disaster strikes. The Shuttle is destroyed, leaving Stone and Kowalsky completely alone-tethered to nothing but each other and spiraling out into the blackness of space. The deafening silence tells them they have lost any link to Earth and any chance for rescue. As fear turns to panic, every gulp of air eats away at what little oxygen is left. But the only way home may be to go further out into the terrifying expanse of space.', 'homepage': 'http://gravitymovie.warnerbros.com/', 'production_companies': 'http://gravitymovie.warnerbros.com/'}, {'title': 'Alien³', 'poster_path': '/vfrQk5IPloGg1v9Rzbh2Eg3VGyM.jpg', 'director': 'David Fincher', 'cast': 'Sigourney Weaver Charles S. Dutton Charles Dance Pete Postlethwaite Ralph Brown', 'overview': 'After escaping with Newt and Hicks from the alien planet, Ripley crash lands on Fiorina 161, a prison planet and host to a correctional facility. Unfortunately, although Newt and Hicks do not survive the crash, a more unwelcome visitor does. The prison does not allow weapons of any kind, and with aid being a long time away, the prisoners must simply survive in any way they can.', 'homepage': nan, 'production_companies': nan}, {'title': 'Jupiter Ascending', 'poster_path': '/2NCcAZ3M3F0FxENYmammBknwpVn.jpg', 'director': 'Lilly Wachowski', 'cast': 'Mila Kunis Channing Tatum Sean Bean Eddie Redmayne Douglas Booth', 'overview': 'In a universe where human genetic material is the most precious commodity, an impoverished young Earth woman becomes the key to strategic maneuvers and internal strife within a powerful dynasty…', 'homepage': 'http://www.jupiterascending.com', 'production_companies': 'http://www.jupiterascending.com'}, {'title': 'The Wolverine', 'poster_path': '/9zvDWFdc22pzq0BMcEsQaakBgPj.jpg', 'director': 'James Mangold', 'cast': 'Hugh Jackman Hiroyuki Sanada Famke Janssen Will Yun Lee Tao Okamoto', 'overview': 'Wolverine faces his ultimate nemesis - and tests of his physical, emotional, and mortal limits - in a life-changing voyage to modern-day Japan.', 'homepage': 'http://www.thewolverinemovie.com', 'production_companies': 'http://www.thewolverinemovie.com'}, {'title': 'Silent Running', 'poster_path': '/uWoj7EfHBprcssXUzCCWeI383Tx.jpg', 'director': 'Douglas Trumbull', 'cast': 'Bruce Dern Cliff Potts Ron Rifkin Jesse Vint Steven Brown', 'overview': \"In a future Earth barren of all flora and fauna, the planet's ecosystems exist only in large pods attached to spacecraft. When word comes in that the pods are to be jettisoned into space and destroyed so that the spacecraft can be reused for commercial purposes, most of the crew of the Valley Forge rejoice at the prospect of going home. Not so for botanist Freeman Lowell who loves the forest and its creatures, so decides to take matters into his own hands to protect what he loves.\", 'homepage': nan, 'production_companies': nan}, {'title': 'Zathura: A Space Adventure', 'poster_path': '/jigrJSYI7NzKVh9m2Sfs0zDIxS0.jpg', 'director': 'Jon Favreau', 'cast': 'Jonah Bobo Josh Hutcherson Dax Shepard Kristen Stewart Tim Robbins', 'overview': 'After their father is called into work, two young boys, Walter and Danny, are left in the care of their teenage sister, Lisa, and told they must stay inside. Walter and Danny, who anticipate a boring day, are shocked when they begin playing Zathura, a space-themed board game, which they realize has mystical powers when their house is shot into space. With the help of an astronaut, the boys attempt to return home.', 'homepage': nan, 'production_companies': nan}, {'title': 'Trekkies', 'poster_path': '/aiYDbtZm0HNltWDmim1vSAIAJCs.jpg', 'director': 'Roger Nygard', 'cast': 'Denise Crosby Barbara Adams Majel Barrett James Doohan DeForest Kelley', 'overview': \"A hilarious look at the universe's most fervent fans.\", 'homepage': nan, 'production_companies': nan}, {'title': 'Cargo', 'poster_path': '/cdPSUck4tBRvRu6DFk6XciDrssn.jpg', 'director': 'Ivan Engler', 'cast': 'Martin Rapold Anna-Katharina Schwabroh Regula Grauwiller Yangzom Brauen Michael Finger', 'overview': \"The story of CARGO takes place on rusty space-freighter KASSANDRA on its way to Station 42. The young medic LAURA is the only one awake on board while the rest of the crew lies frozen in hibernation sleep. In 4 months will Laura's shift be over.\", 'homepage': 'http://www.cargoderfilm.ch http://cargothemovie.com', 'production_companies': 'http://www.cargoderfilm.ch http://cargothemovie.com'}, {'title': 'Wing Commander', 'poster_path': '/wdDI3EJzyfscgLeK4J9B2PnCG45.jpg', 'director': 'Christopher Roberts', 'cast': 'Freddie Prinze Jr. Saffron Burrows Matthew Lillard Tch\\\\u00e9ky Karyo J\\\\u00fcrgen Prochnow', 'overview': 'The Hollywood version of the popular video game series \"Wing Commander\". Unlike other video games to feature film transitions, series creator Chris Roberts was heavily involved in the film\\'s creation. This is the story of Christopher Blair and Todd \"Maniac\" Marshall as they arrive at the Tiger Claw and are soon forced to stop a Kilrathi fleet heading towards Earth.', 'homepage': nan, 'production_companies': nan}, {'title': 'Star Trek', 'poster_path': '/9vaRPXj44Q2meHgt3VVfQufiHOJ.jpg', 'director': 'J.J. Abrams', 'cast': 'Chris Pine Zachary Quinto Leonard Nimoy Eric Bana Bruce Greenwood', 'overview': 'The fate of the galaxy rests in the hands of bitter rivals. One, James Kirk, is a delinquent, thrill-seeking Iowa farm boy. The other, Spock, a Vulcan, was raised in a logic-based society that rejects all emotion. As fiery instinct clashes with calm reason, their unlikely but powerful partnership is the only thing capable of leading their crew through unimaginable danger, boldly going where no one has gone before. The human adventure has begun again.', 'homepage': nan, 'production_companies': nan}, {'title': 'Lost in Space', 'poster_path': '/4miEpZmUOMqV8P0T6oq5HVBiVHw.jpg', 'director': 'Stephen Hopkins', 'cast': 'Gary Oldman William Hurt Matt LeBlanc Mimi Rogers Heather Graham', 'overview': 'The prospects for continuing life on Earth in the year 2058 are grim. So the Robinsons are launched into space to colonize Alpha Prime, the only other inhabitable planet in the galaxy. But when a stowaway sabotages the mission, the Robinsons find themselves hurtling through uncharted space.', 'homepage': nan, 'production_companies': nan}, {'title': 'Babylon A.D.', 'poster_path': '/kt9nqD0uOar8IVE9191HXhWOXKI.jpg', 'director': 'Mathieu Kassovitz', 'cast': 'Vin Diesel Michelle Yeoh M\\\\u00e9lanie Thierry Lambert Wilson Charlotte Rampling', 'overview': 'In Babylon A.D Vin Diesel stars as a veteran-turned-mercenary who is hired to deliver a package from the ravages of post-apocalyptic Eastern Europe to a destination in the teeming megalopolis of New York City. The \"package\" is a mysterious young woman with a secret.', 'homepage': 'http://www.babylonadmovie.com/', 'production_companies': 'http://www.babylonadmovie.com/'}, {'title': 'The Fifth Element', 'poster_path': '/fPtlCO1yQtnoLHOwKtWz7db6RGU.jpg', 'director': 'Luc Besson', 'cast': 'Bruce Willis Gary Oldman Ian Holm Milla Jovovich Chris Tucker', 'overview': 'In 2257, a taxi driver is unintentionally given the task of saving a young girl who is part of the key that will ensure the survival of humanity.', 'homepage': nan, 'production_companies': nan}, {'title': 'Oblivion', 'poster_path': '/2ncs7hqBsEjFMqt6Y7ShBCO9tWs.jpg', 'director': 'Joseph Kosinski', 'cast': 'Tom Cruise Morgan Freeman Olga Kurylenko Andrea Riseborough Nikolaj Coster-Waldau', 'overview': 'Jack Harper is one of the last few drone repairmen stationed on Earth.  Part of a massive operation to extract vital resources after decades of war with a terrifying threat known as the Scavs, Jack’s mission is nearly complete.  His existence is brought crashing down when he rescues a beautiful  stranger from a downed spacecraft.  Her arrival triggers a chain of events that  forces him to question everything he knows and puts the fate of humanity in his hands.', 'homepage': 'https://www.uphe.com/movies/oblivion', 'production_companies': 'https://www.uphe.com/movies/oblivion'}, {'title': 'Titan A.E.', 'poster_path': '/8wUCp1FFiZwq1AUIfNgbxu5hn4G.jpg', 'director': 'Gary Goldman', 'cast': 'Matt Damon Bill Pullman Drew Barrymore John Leguizamo Nathan Lane', 'overview': \"A young man finds out that he holds the key to restoring hope and ensuring survival for the human race, while an alien species called the Dredge are bent on mankind's destruction.\", 'homepage': nan, 'production_companies': nan}, {'title': 'AVP: Alien vs. Predator', 'poster_path': '/2DKoPom57PVtJWcJlq7bS7JpahU.jpg', 'director': 'Paul W.S. Anderson', 'cast': 'Sanaa Lathan Raoul Bova Ewen Bremner Colin Salmon Tommy Flanagan', 'overview': 'When scientists discover something in the Arctic that appears to be a buried Pyramid, they send a research team out to investigate. Little do they know that they are about to step into a hunting ground where Aliens are grown as sport for the Predator race.', 'homepage': 'http://www.avp-movie.com/', 'production_companies': 'http://www.avp-movie.com/'}, {'title': 'The Empire Strikes Back', 'poster_path': '/7BuH8itoSrLExs2YZSsM01Qk2no.jpg', 'director': 'Irvin Kershner', 'cast': 'Mark Hamill Harrison Ford Carrie Fisher Billy Dee Williams Anthony Daniels', 'overview': 'The epic saga continues as Luke Skywalker, in hopes of defeating the evil Galactic Empire, learns the ways of the Jedi from aging master Yoda. But Darth Vader is more determined than ever to capture Luke. Meanwhile, rebel leader Princess Leia, cocky Han Solo, Chewbacca, and droids C-3PO and R2-D2 are thrown into various stages of capture, betrayal and despair.', 'homepage': 'http://www.starwars.com/films/star-wars-episode-v-the-empire-strikes-back', 'production_companies': 'http://www.starwars.com/films/star-wars-episode-v-the-empire-strikes-back'}, {'title': 'Dragonball Evolution', 'poster_path': '/xBJMob7QIzCOuDGY7aqGAvBQsj2.jpg', 'director': 'James Wong', 'cast': 'Chow Yun-fat Justin Chatwin Joon Park Jamie Chung Emmy Rossum', 'overview': 'The young warrior Son Goku sets out on a quest, racing against time and the vengeful King Piccolo, to collect a set of seven magical orbs that will grant their wielder unlimited power.', 'homepage': nan, 'production_companies': nan}, {'title': 'Superman Returns', 'poster_path': '/qIegbn6DSUYmggfwxOBNOVS35q.jpg', 'director': 'Bryan Singer', 'cast': 'Brandon Routh Kevin Spacey Kate Bosworth James Marsden Parker Posey', 'overview': 'Superman returns to discover his 5-year absence has allowed Lex Luthor to walk free, and that those he was closest too felt abandoned and have moved on. Luthor plots his ultimate revenge that could see millions killed and change the face of the planet forever, as well as ridding himself of the Man of Steel.', 'homepage': 'http://www.superman.com', 'production_companies': 'http://www.superman.com'}, {'title': 'Divergent', 'poster_path': '/lmIh6aeCQXA4sLt58l6qB1o54BE.jpg', 'director': 'Neil Burger', 'cast': 'Shailene Woodley Theo James Kate Winslet Miles Teller Ray Stevenson', 'overview': \"In a world divided into factions based on personality types, Tris learns that she's been classified as Divergent and won't fit in. When she discovers a plot to destroy Divergents, Tris and the mysterious Four must find out what makes Divergents dangerous before it's too late.\", 'homepage': 'http://www.thedivergentseries.movie/#divergent', 'production_companies': 'http://www.thedivergentseries.movie/#divergent'}, {'title': 'John Carter', 'poster_path': '/7GSSyUUgUEXm1rhmiPGSRuKoqnK.jpg', 'director': 'Andrew Stanton', 'cast': 'Taylor Kitsch Lynn Collins Samantha Morton Willem Dafoe Thomas Haden Church', 'overview': \"John Carter is a war-weary, former military captain who's inexplicably transported to the mysterious and exotic planet of Barsoom (Mars) and reluctantly becomes embroiled in an epic conflict. It's a world on the brink of collapse, and Carter rediscovers his humanity when he realizes the survival of Barsoom and its people rests in his hands.\", 'homepage': 'http://movies.disney.com/john-carter', 'production_companies': 'http://movies.disney.com/john-carter'}, {'title': 'The Black Hole', 'poster_path': '/92fghstMdnJQPxoqWPGtRhbUb8G.jpg', 'director': 'Gary Nelson', 'cast': 'Maximilian Schell Anthony Perkins Robert Forster Joseph Bottoms Ernest Borgnine', 'overview': \"The explorer craft U.S.S. Palomino is returning to Earth after a fruitless 18-month search for extra-terrestrial life when the crew comes upon a supposedly lost ship, the magnificent U.S.S. Cygnus, hovering near a black hole. The ship is controlled by Dr. Hans Reinhardt and his monstrous robot companion, Maximillian. But the initial wonderment and awe the Palomino crew feel for the ship and its resistance to the power of the black hole turn to horror as they uncover Reinhardt's plans.\", 'homepage': nan, 'production_companies': nan}, {'title': 'The Ice Pirates', 'poster_path': '/wepZqo4I20z8TklnEHRJhs2fErH.jpg', 'director': 'Stewart Raffill', 'cast': 'Robert Urich Mary Crosby Michael D. Roberts Anjelica Huston John Matuszak', 'overview': 'The time is the distant future, where by far the most precious commodity in the galaxy is water. The last surviving water planet was somehow removed to the unreachable centre of the galaxy at the end of the galactic trade wars. The galaxy is ruled by an evil emperor (John Carradine) presiding over a trade oligarchy that controls all mining and sale of ice from asteroids and comets.', 'homepage': nan, 'production_companies': nan}, {'title': 'Memoirs of an Invisible Man', 'poster_path': '/bdhxHQNwYdjkyFx9DwebXtama0U.jpg', 'director': 'John Carpenter', 'cast': 'Chevy Chase Daryl Hannah Sam Neill Michael McKean Stephen Tobolowsky', 'overview': 'After a freak accident, an invisible yuppie runs for his life from a treacherous CIA official while trying to cope with his new life.', 'homepage': 'http://www.theofficialjohncarpenter.com/memoirs-of-an-invisible-man/', 'production_companies': 'http://www.theofficialjohncarpenter.com/memoirs-of-an-invisible-man/'}, {'title': 'Starship Troopers', 'poster_path': '/4zQ5CDrhqB7mObwv5oYkGyh37Pl.jpg', 'director': 'Paul Verhoeven', 'cast': 'Casper Van Dien Dina Meyer Denise Richards Jake Busey Neil Patrick Harris', 'overview': 'Set in the future, the story follows a young soldier named Johnny Rico and his exploits in the Mobile Infantry. Rico\\'s military career progresses from recruit to non-commissioned officer and finally to officer against the backdrop of an interstellar war between mankind and an arachnoid species known as \"the Bugs\".', 'homepage': nan, 'production_companies': nan}, {'title': \"The Astronaut's Wife\", 'poster_path': '/54RGJ6INW9ERG8IaalmMKbbDgwH.jpg', 'director': 'Rand Ravich', 'cast': 'Johnny Depp Charlize Theron Joe Morton Clea DuVall Nick Cassavetes', 'overview': \"When astronaut Spencer Armacost returns to Earth after a mission that nearly cost him his life, he decides to take a desk job in order to see his beautiful wife, Jillian, more often. Gradually, Jillian notices that Spencer's personality seems to have changed, but her concerns fade when she discovers that she's pregnant. As Jillian grows closer to becoming a mother, her suspicions about Spencer return. Why does it seem as if he's a different person?\", 'homepage': nan, 'production_companies': nan}, {'title': 'Machete Kills', 'poster_path': '/nbnRAibyPSt0ProTJI3hH13KHaL.jpg', 'director': 'Robert Rodriguez', 'cast': 'Danny Trejo Mel Gibson Amber Heard Michelle Rodriguez Sof\\\\u00eda Vergara', 'overview': 'Ex-Federale agent Machete is recruited by the President of the United States for a mission which would be impossible for any mortal man – he must take down a madman revolutionary and an eccentric billionaire arms dealer who has hatched a plan to spread war and anarchy across the planet.', 'homepage': nan, 'production_companies': nan}, {'title': 'Soldier', 'poster_path': '/AjJdy7RdVkPm5yCK5apBJKCXf49.jpg', 'director': 'Paul W.S. Anderson', 'cast': 'Kurt Russell Jason Scott Lee Jason Isaacs Connie Nielsen Sean Pertwee', 'overview': 'Sergeant Todd is a veteran soldier for an elite group of the armed forces. After being defeated by a new breed of genetically engineered soldiers, he is dumped on a waste planet and left for dead. He soon interacts with a group of crash survivors who lead out a peaceful existence. The peace is broken as the new soldiers land on the planet to eliminate the colony, which Sergeant Todd must defend.', 'homepage': 'http://www.wb-soldier.com/', 'production_companies': 'http://www.wb-soldier.com/'}, {'title': 'The Abyss', 'poster_path': '/jel2BuDv7Bq4fuv2pUrTfiBm69o.jpg', 'director': 'James Cameron', 'cast': 'Ed Harris Mary Elizabeth Mastrantonio Michael Biehn Leo Burmester Todd Graff', 'overview': \"A civilian oil rig crew is recruited to conduct a search and rescue effort when a nuclear submarine mysteriously sinks. One diver soon finds himself on a spectacular odyssey 25,000 feet below the ocean's surface where he confronts a mysterious force that has the power to change the world or destroy it.\", 'homepage': nan, 'production_companies': nan}, {'title': 'Damnation Alley', 'poster_path': '/qVQAm2L5cfhDhExU6OoSfv6Qlz.jpg', 'director': 'Jack Smight', 'cast': 'Jan-Michael Vincent George Peppard Dominique Sanda Paul Winfield Jackie Earle Haley', 'overview': 'A small group of survivors at a military installation who survived World War 3 attempt to drive across the desolate wasteland to where they hope more survivors are living. Hopefully their specially built vehicles will protect them against the freakish weather mutated plant and animal life and other dangers along the way.', 'homepage': nan, 'production_companies': nan}, {'title': 'Men in Black', 'poster_path': '/dPrUPFcgLfNbmDL8V69vcrTyEfb.jpg', 'director': 'Barry Sonnenfeld', 'cast': \"Tommy Lee Jones Will Smith Linda Fiorentino Vincent D'Onofrio Rip Torn\", 'overview': \"Men in Black follows the exploits of agents Kay and Jay, members of a top-secret organization established to monitor and police alien activity on Earth. The two Men in Black find themselves in the middle of the deadly plot by an intergalactic terrorist who has arrived on Earth to assassinate two ambassadors from opposing galaxies. In order to prevent worlds from colliding, the MiB must track down the terrorist and prevent the destruction of Earth. It's just another typical day for the Men in Black.\", 'homepage': 'http://www.sonypictures.com/homevideo/meninblack/', 'production_companies': 'http://www.sonypictures.com/homevideo/meninblack/'}, {'title': 'Space Cowboys', 'poster_path': '/sHqp9msCdDowHi3bdcgbikGyNw9.jpg', 'director': 'Clint Eastwood', 'cast': 'Clint Eastwood Tommy Lee Jones Donald Sutherland James Garner James Cromwell', 'overview': \"Frank Corvin, ‘Hawk’ Hawkins, Jerry O'Neill and ‘Tank’ Sullivan were hotdog members of Project Daedalus, the Air Force's test program for space travel, but their hopes were dashed in 1958 with the formation of NASA and the use of trained chimps. They blackmail their way into orbit when Russia's mysterious ‘Ikon’ communications satellite's orbit begins to degrade and threatens to crash to Earth.\", 'homepage': 'http://movies.warnerbros.com/spacecowboys/index.html', 'production_companies': 'http://movies.warnerbros.com/spacecowboys/index.html'}, {'title': 'Space Dogs', 'poster_path': '/fEEyn6IG3HvqtQvH3mL4YrYYCCt.jpg', 'director': 'Inna Evlannikova', 'cast': 'Anna Bolshova Evgeny Mironov Sergey Garmash Aleksandr Bashirov Elena Yakovleva', 'overview': 'Belka, the amazing flying dog is unexpectedly hurdled into the streets of Moscow when the rocket she is in malfunctions during one of her circus routines. Fortunately the crash leads her to meet a streetwise dog named Strelka and her irredeemable rat friend Venya. Together with other amusing friends found along the way, the three find themselves in a space program-training center where they get sent away in a rocket, leaving planet Earth...', 'homepage': nan, 'production_companies': nan}, {'title': 'The Time Machine', 'poster_path': '/9QB6wIc6XOtoi02uUCLSvY0onSL.jpg', 'director': 'Simon Wells', 'cast': 'Guy Pearce Mark Addy Phyllida Law Sienna Guillory Laura Kirk', 'overview': 'Hoping to alter the events of the past, a 19th century inventor instead travels 800,000 years into the future, where he finds humankind divided into two warring races.', 'homepage': 'http://timemachine.countingdown.com/', 'production_companies': 'http://timemachine.countingdown.com/'}, {'title': 'Sheena', 'poster_path': '/qQWwnbeEC0WFS5SvGLojMna6DD7.jpg', 'director': 'John Guillermin', 'cast': 'Tanya Roberts Ted Wass Donovan Scott Elizabeth of Toro France Zobda', 'overview': \"Sheena's white parents are killed while on Safari. She is raised by the mystical witch woman of an African tribe. When her foster mother is framed for the murder of a political leader, Sheena and a newsman, Vic Casey are forced to flee while pursued by the mercenaries hired by the real killer, who hopes to assume power. Sheena's ability to talk to the animals and knowledge of jungle lore give them a chance against the high tech weapons of the mercenaries.\", 'homepage': nan, 'production_companies': nan}, {'title': 'Captain America: Civil War', 'poster_path': '/rAGiXaUfPzY7CDEyNKUofk3Kw2e.jpg', 'director': 'Anthony Russo', 'cast': 'Chris Evans Robert Downey Jr. Scarlett Johansson Sebastian Stan Anthony Mackie', 'overview': 'Following the events of Age of Ultron, the collective governments of the world pass an act designed to regulate all superhuman activity. This polarizes opinion amongst the Avengers, causing two factions to side with Iron Man or Captain America, which causes an epic battle between former allies.', 'homepage': 'http://marvel.com/captainamericapremiere', 'production_companies': 'http://marvel.com/captainamericapremiere'}, {'title': 'Star Trek: Insurrection', 'poster_path': '/xQCMAHeg5M9HpDIqanYbWdr4brB.jpg', 'director': 'Jonathan Frakes', 'cast': 'Patrick Stewart Jonathan Frakes Brent Spiner LeVar Burton Michael Dorn', 'overview': 'When an alien race and factions within Starfleet attempt to take over a planet that has \"regenerative\" properties, it falls upon Captain Picard and the crew of the Enterprise to defend the planet\\'s people as well as the very ideals upon which the Federation itself was founded.', 'homepage': nan, 'production_companies': nan}]\n"
     ]
    }
   ],
   "source": [
    "print(listofmovies(\"Avatar\"))"
   ]
  },
  {
   "cell_type": "code",
   "execution_count": null,
   "metadata": {},
   "outputs": [],
   "source": []
  }
 ],
 "metadata": {
  "kernelspec": {
   "display_name": "Python 3",
   "language": "python",
   "name": "python3"
  },
  "language_info": {
   "codemirror_mode": {
    "name": "ipython",
    "version": 3
   },
   "file_extension": ".py",
   "mimetype": "text/x-python",
   "name": "python",
   "nbconvert_exporter": "python",
   "pygments_lexer": "ipython3",
   "version": "3.6.8"
  }
 },
 "nbformat": 4,
 "nbformat_minor": 4
}
